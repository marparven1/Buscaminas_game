{
 "cells": [
  {
   "cell_type": "code",
   "execution_count": 1,
   "metadata": {},
   "outputs": [],
   "source": [
    "import numpy as np"
   ]
  },
  {
   "cell_type": "code",
   "execution_count": 112,
   "metadata": {},
   "outputs": [
    {
     "name": "stdout",
     "output_type": "stream",
     "text": [
      "[[0.5 0.1 0.4]\n",
      " [0.1 0.3 0.6]]\n",
      "[[10, 20, 5]]\n"
     ]
    }
   ],
   "source": [
    "p_b_u = np.array([[0.5,0.1,0.4], [0.1,0.3,0.6]])\n",
    "print(p_b_u)\n",
    "r_b = [[10,20,5]]\n",
    "print(r_b)"
   ]
  },
  {
   "cell_type": "code",
   "execution_count": 17,
   "metadata": {},
   "outputs": [
    {
     "data": {
      "text/plain": [
       "0.02"
      ]
     },
     "execution_count": 17,
     "metadata": {},
     "output_type": "execute_result"
    }
   ],
   "source": [
    "1/50"
   ]
  },
  {
   "cell_type": "code",
   "execution_count": 113,
   "metadata": {},
   "outputs": [
    {
     "data": {
      "text/plain": [
       "array([1., 6., 3.])"
      ]
     },
     "execution_count": 113,
     "metadata": {},
     "output_type": "execute_result"
    }
   ],
   "source": [
    "(p_b_u*r_b)[0]\n",
    "(p_b_u*r_b)[1]"
   ]
  },
  {
   "cell_type": "code",
   "execution_count": 135,
   "metadata": {},
   "outputs": [
    {
     "name": "stdout",
     "output_type": "stream",
     "text": [
      "[6.]\n",
      "[1]\n",
      "[5.93220339]\n",
      "[1]\n",
      "[5.86440678]\n",
      "[1]\n",
      "[5.79661017]\n",
      "[1]\n",
      "[5.72881356]\n",
      "[1]\n",
      "[5.66101695]\n",
      "[1]\n",
      "[5.59322034]\n",
      "[1]\n",
      "[5.52542373]\n",
      "[1]\n",
      "[5.45762712]\n",
      "[1]\n",
      "[5.38983051]\n",
      "[1]\n",
      "[5.3220339]\n",
      "[1]\n",
      "[5.25423729]\n",
      "[1]\n",
      "[5.18644068]\n",
      "[1]\n",
      "[5.11864407]\n",
      "[1]\n",
      "[5.05084746]\n",
      "[1]\n",
      "[4.98305085]\n",
      "[1]\n",
      "[4.91525424]\n",
      "[1]\n",
      "[4.84745763]\n",
      "[1]\n",
      "[4.77966102]\n",
      "[1]\n",
      "[4.71186441]\n",
      "[1]\n",
      "[4.6440678]\n",
      "[1]\n",
      "[4.57627119]\n",
      "[1]\n",
      "[4.50847458]\n",
      "[1]\n",
      "[4.44067797]\n",
      "[1]\n",
      "[4.37288136]\n",
      "[1]\n",
      "[4.30508475]\n",
      "[1]\n",
      "[4.23728814]\n",
      "[1]\n",
      "[4.16949153]\n",
      "[1]\n",
      "[4.10169492]\n",
      "[1]\n",
      "[4.03389831]\n",
      "[1]\n",
      "[3.96610169]\n",
      "[1]\n",
      "[3.89830508]\n",
      "[1]\n",
      "[3.83050847]\n",
      "[1]\n",
      "[3.76271186]\n",
      "[1]\n",
      "[3.69491525]\n",
      "[1]\n",
      "[3.62711864]\n",
      "[1]\n",
      "[3.55932203]\n",
      "[1]\n",
      "[3.50847458]\n",
      "[0]\n",
      "[3.57627119]\n",
      "[0]\n",
      "[3.6440678]\n",
      "[0]\n",
      "[3.71186441]\n",
      "[0]\n",
      "[3.77966102]\n",
      "[0]\n",
      "[3.84745763]\n",
      "[0]\n",
      "[3.91525424]\n",
      "[0]\n",
      "[3.98305085]\n",
      "[0]\n",
      "[4.05084746]\n",
      "[0]\n",
      "[4.11864407]\n",
      "[0]\n",
      "[4.18644068]\n",
      "[0]\n",
      "[4.25423729]\n",
      "[0]\n",
      "[4.3220339]\n",
      "[0]\n",
      "[4.38983051]\n",
      "[0]\n",
      "[4.45762712]\n",
      "[0]\n",
      "[4.52542373]\n",
      "[0]\n",
      "[4.59322034]\n",
      "[0]\n",
      "[4.66101695]\n",
      "[0]\n",
      "[4.72881356]\n",
      "[0]\n",
      "[4.79661017]\n",
      "[0]\n",
      "[4.86440678]\n",
      "[0]\n",
      "[4.93220339]\n",
      "[0]\n",
      "[5.]\n",
      "[0]\n",
      "[]\n",
      "[]\n"
     ]
    }
   ],
   "source": [
    "utilidad = []\n",
    "banner = []\n",
    "for i in np.linspace(0,1,60):\n",
    "    u = i*((p_b_u*r_b)[0])+ (1-i)*((p_b_u*r_b)[1])\n",
    "    #print(u)\n",
    "    max1 = np.where(u ==np.amax(u))\n",
    "    ut_max = u[max1[0]]\n",
    "    print(ut_max)\n",
    "    #utilidad.append(max1[int(np.where(u==max(u))[0])])\n",
    "    print(max1[0])\n",
    "    #banner.append(int(np.where(u==max(u))[0])+1)\n",
    "\n",
    "print(banner)\n",
    "print(utilidad)\n",
    "\n",
    "\n",
    "#banner.plot()\n",
    "\n"
   ]
  },
  {
   "cell_type": "code",
   "execution_count": 97,
   "metadata": {},
   "outputs": [
    {
     "data": {
      "image/png": "[encoded data removed]",
      "text/plain": [
       "<Figure size 640x480 with 1 Axes>"
      ]
     },
     "metadata": {},
     "output_type": "display_data"
    }
   ],
   "source": [
    "from matplotlib import pyplot as plt\n",
    "plt.plot(banner)\n",
    "plt.show()\n"
   ]
  }
 ],
 "metadata": {
  "kernelspec": {
   "display_name": "Python 3",
   "language": "python",
   "name": "python3"
  },
  "language_info": {
   "codemirror_mode": {
    "name": "ipython",
    "version": 3
   },
   "file_extension": ".py",
   "mimetype": "text/x-python",
   "name": "python",
   "nbconvert_exporter": "python",
   "pygments_lexer": "ipython3",
   "version": "3.9.6"
  },
  "orig_nbformat": 4,
  "vscode": {
   "interpreter": {
    "hash": "31f2aee4e71d21fbe5cf8b01ff0e069b9275f58929596ceb00d14d90e3e16cd6"
   }
  }
 },
 "nbformat": 4,
 "nbformat_minor": 2
}
